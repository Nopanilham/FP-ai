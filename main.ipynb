{
 "cells": [
  {
   "cell_type": "code",
   "execution_count": null,
   "metadata": {},
   "outputs": [],
   "source": [
    "# 1. Data Loading and Initial Setup\n",
    "\n",
    "import pandas as pd\n",
    "import re\n",
    "import nltk\n",
    "from nltk.corpus import stopwords\n",
    "from nltk.tokenize import word_tokenize\n",
    "from Sastrawi.Stemmer.StemmerFactory import StemmerFactory\n",
    "from IPython.display import display\n",
    "\n",
    "# Load the data from the CSV file\n",
    "data = pd.read_csv(\"tweets-data.csv\")\n",
    "\n",
    "# Display a message indicating that the data has been successfully loaded\n",
    "print(\"Loaded data:\")\n",
    "\n",
    "# Print the first 5 rows of the DataFrame with a nicer table format\n",
    "display(data.head(5))\n",
    "\n",
    "# Indonesian stopwords from NLTK and additional stopwords\n",
    "stop_words_indo_nltk = stopwords.words('indonesian')\n",
    "stop_words_eng_nltk = stopwords.words('english')\n",
    "additional_stopwords = [\n",
    "  'yang', 'di', 'ke', 'dari', 'ini', 'itu', 'pada', 'untuk', 'dan', 'dengan',\n",
    "  'adalah', 'saya', 'kamu', 'dia', 'kita', 'mereka', 'akan', 'atau', 'seperti', \n",
    "  'FFFF00', 't co', 'FFFF00 ', 'https', 'segyongstar', 'ipi', 'ye', 'ha', 'a', 't', \n",
    "  'co' , 'i', 'font', 'fontcolor', 'fontcolor=', 'mkkkkkkkkkkk', '=', '#', '\"', 'FFFF00', 'ffff'\n",
    "]\n",
    "stop_words_id = list(set(stop_words_indo_nltk + stop_words_eng_nltk + additional_stopwords))\n",
    "\n",
    "# Initialize Sastrawi Stemmer\n",
    "factory = StemmerFactory()\n",
    "stemmer = factory.create_stemmer()\n"
   ]
  }
 ],
 "metadata": {
  "language_info": {
   "name": "python"
  }
 },
 "nbformat": 4,
 "nbformat_minor": 2
}
